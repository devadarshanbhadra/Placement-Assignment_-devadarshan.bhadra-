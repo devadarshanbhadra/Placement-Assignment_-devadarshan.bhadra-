{
  "nbformat": 4,
  "nbformat_minor": 0,
  "metadata": {
    "colab": {
      "provenance": []
    },
    "kernelspec": {
      "name": "python3",
      "display_name": "Python 3"
    },
    "language_info": {
      "name": "python"
    }
  },
  "cells": [
    {
      "cell_type": "code",
      "source": [
        "import pandas as pd\n",
        "import numpy as np\n",
        "from scipy import stats"
      ],
      "metadata": {
        "id": "S1VAA01axiMn"
      },
      "execution_count": 2,
      "outputs": []
    },
    {
      "cell_type": "code",
      "source": [
        "# Read the data from a CSV file\n",
        "data = pd.read_csv('Q3_Data.csv')\n",
        "\n",
        "# Remove leading/trailing spaces from column names\n",
        "data.columns = data.columns.str.strip()\n",
        "\n",
        "# Check the modified column names\n",
        "print(data.columns)"
      ],
      "metadata": {
        "colab": {
          "base_uri": "https://localhost:8080/"
        },
        "id": "0q1OLpkAx3uo",
        "outputId": "511c996a-fc96-4ce7-83dc-38fd6fec54ed"
      },
      "execution_count": 4,
      "outputs": [
        {
          "output_type": "stream",
          "name": "stdout",
          "text": [
            "Index(['Patient ID', 'Blood Pressure Before (mmHg)',\n",
            "       'Blood Pressure After (mmHg)'],\n",
            "      dtype='object')\n"
          ]
        }
      ]
    },
    {
      "cell_type": "markdown",
      "source": [
        "## a. Measure the dispersion in both columns"
      ],
      "metadata": {
        "id": "ZS-BS3vm0xF5"
      }
    },
    {
      "cell_type": "code",
      "source": [
        "dispersion_before = np.var(data['Blood Pressure Before (mmHg)'])\n",
        "dispersion_after = np.var(data['Blood Pressure After (mmHg)'])\n",
        "print(\"Dispersion (Variance) of Blood Pressure Before: {:.2f}\".format(dispersion_before))\n",
        "print(\"Dispersion (Variance) of Blood Pressure After: {:.2f}\".format(dispersion_after))\n",
        "print()"
      ],
      "metadata": {
        "colab": {
          "base_uri": "https://localhost:8080/"
        },
        "id": "3j1eWR7q0yJi",
        "outputId": "0556842f-a16a-42c4-aa38-1c272f6d95c0"
      },
      "execution_count": 5,
      "outputs": [
        {
          "output_type": "stream",
          "name": "stdout",
          "text": [
            "Dispersion (Variance) of Blood Pressure Before: 43.10\n",
            "Dispersion (Variance) of Blood Pressure After: 46.97\n",
            "\n"
          ]
        }
      ]
    },
    {
      "cell_type": "markdown",
      "source": [
        "## b. Calculate mean and 5% confidence interval"
      ],
      "metadata": {
        "id": "Fyh8-HkS05xA"
      }
    },
    {
      "cell_type": "code",
      "source": [
        "mean_before = np.mean(data['Blood Pressure Before (mmHg)'])\n",
        "mean_after = np.mean(data['Blood Pressure After (mmHg)'])\n",
        "confidence_interval_before = stats.norm.interval(0.95, loc=mean_before, scale=stats.sem(data['Blood Pressure Before (mmHg)']))\n",
        "confidence_interval_after = stats.norm.interval(0.95, loc=mean_after, scale=stats.sem(data['Blood Pressure After (mmHg)']))\n",
        "\n",
        "print(\"Mean of Blood Pressure Before: {:.2f}\".format(mean_before))\n",
        "print(\"Confidence Interval (95%) of Blood Pressure Before:\", confidence_interval_before)\n",
        "print()\n",
        "print(\"Mean of Blood Pressure After: {:.2f}\".format(mean_after))\n",
        "print(\"Confidence Interval (95%) of Blood Pressure After:\", confidence_interval_after)\n",
        "print()"
      ],
      "metadata": {
        "colab": {
          "base_uri": "https://localhost:8080/"
        },
        "id": "lnvv0MQ202ew",
        "outputId": "6b33e9ab-b592-473a-d805-37628d735478"
      },
      "execution_count": 6,
      "outputs": [
        {
          "output_type": "stream",
          "name": "stdout",
          "text": [
            "Mean of Blood Pressure Before: 133.91\n",
            "Confidence Interval (95%) of Blood Pressure Before: (132.61676127359584, 135.20323872640415)\n",
            "\n",
            "Mean of Blood Pressure After: 128.36\n",
            "Confidence Interval (95%) of Blood Pressure After: (127.00997247543387, 129.71002752456616)\n",
            "\n"
          ]
        }
      ]
    },
    {
      "cell_type": "markdown",
      "source": [
        "## C. Calculate Mean Absolute Deviation (MAD) and Standard Deviation (SD)"
      ],
      "metadata": {
        "id": "_KpHjbOR1Biv"
      }
    },
    {
      "cell_type": "code",
      "source": [
        "mad_before = np.mean(np.abs(data['Blood Pressure Before (mmHg)'] - mean_before))\n",
        "mad_after = np.mean(np.abs(data['Blood Pressure After (mmHg)'] - mean_after))\n",
        "sd_before = np.std(data['Blood Pressure Before (mmHg)'])\n",
        "sd_after = np.std(data['Blood Pressure After (mmHg)'])\n",
        "\n",
        "print(\"Mean Absolute Deviation (MAD) of Blood Pressure Before: {:.2f}\".format(mad_before))\n",
        "print(\"Mean Absolute Deviation (MAD) of Blood Pressure After: {:.2f}\".format(mad_after))\n",
        "print()\n",
        "print(\"Standard Deviation (SD) of Blood Pressure Before: {:.2f}\".format(sd_before))\n",
        "print(\"Standard Deviation (SD) of Blood Pressure After: {:.2f}\".format(sd_after))\n",
        "print()"
      ],
      "metadata": {
        "colab": {
          "base_uri": "https://localhost:8080/"
        },
        "id": "gqEQDdYQ1COF",
        "outputId": "e5dfbf02-a3d0-43a2-d78c-f8aafaab7077"
      },
      "execution_count": 7,
      "outputs": [
        {
          "output_type": "stream",
          "name": "stdout",
          "text": [
            "Mean Absolute Deviation (MAD) of Blood Pressure Before: 5.71\n",
            "Mean Absolute Deviation (MAD) of Blood Pressure After: 5.90\n",
            "\n",
            "Standard Deviation (SD) of Blood Pressure Before: 6.57\n",
            "Standard Deviation (SD) of Blood Pressure After: 6.85\n",
            "\n"
          ]
        }
      ]
    },
    {
      "cell_type": "markdown",
      "source": [
        "## d. Calculate the correlation coefficient and significance level"
      ],
      "metadata": {
        "id": "wUBaI1SX1UWl"
      }
    },
    {
      "cell_type": "code",
      "source": [
        "correlation_coefficient, p_value = stats.pearsonr(data['Blood Pressure Before (mmHg)'], data['Blood Pressure After (mmHg)'])\n",
        "significance_level = 0.01\n",
        "\n",
        "print(\"Correlation Coefficient: {:.2f}\".format(correlation_coefficient))\n",
        "print(\"p-value: {:.4f}\".format(p_value))\n",
        "if p_value < significance_level:\n",
        "    print(\"Correlation is significant at the 1% level.\")\n",
        "else:\n",
        "    print(\"Correlation is not significant at the 1% level.\")"
      ],
      "metadata": {
        "colab": {
          "base_uri": "https://localhost:8080/"
        },
        "id": "fxRgHb_r1PqN",
        "outputId": "b8e91ea3-cbb3-4a11-d350-8eb8a2d111b9"
      },
      "execution_count": 8,
      "outputs": [
        {
          "output_type": "stream",
          "name": "stdout",
          "text": [
            "Correlation Coefficient: 0.98\n",
            "p-value: 0.0000\n",
            "Correlation is significant at the 1% level.\n"
          ]
        }
      ]
    },
    {
      "cell_type": "code",
      "source": [],
      "metadata": {
        "id": "3Plyy7LQ1bAK"
      },
      "execution_count": null,
      "outputs": []
    }
  ]
}