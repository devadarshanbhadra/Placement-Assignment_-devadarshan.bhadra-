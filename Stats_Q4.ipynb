{
 "cells": [
  {
   "attachments": {},
   "cell_type": "markdown",
   "metadata": {},
   "source": [
    " Q-4. A group of 20 friends decide to play a game in which they each write a number\n",
    "between 1 and 20 on a slip of paper and put it into a hat. They then draw one slip of paper\n",
    "at random. What is the probability that the number on the slip of paper is a perfect square\n",
    "(i.e., 1, 4, 9, or 16)?"
   ]
  },
  {
   "attachments": {},
   "cell_type": "markdown",
   "metadata": {},
   "source": [
    "#### Answer\n",
    "To calculate the probability that the number drawn from the hat is a perfect square, we need to determine the number of favorable outcomes (slips of paper with a perfect square number) and the total number of possible outcomes (slips of paper with any number between 1 and 20).\n",
    "\n",
    "The favorable outcomes are the perfect square numbers: 1, 4, 9, and 16.\n",
    "\n",
    "The total number of possible outcomes is the total number of slips of paper, which is 20.\n",
    "\n",
    "Therefore, the probability can be calculated as:\n",
    "\n",
    "Probability = Number of favorable outcomes / Total number of possible outcomes\n",
    "\n",
    "Let's calculate it:"
   ]
  },
  {
   "cell_type": "code",
   "execution_count": 2,
   "metadata": {},
   "outputs": [
    {
     "name": "stdout",
     "output_type": "stream",
     "text": [
      "The probability of drawing a perfect square number is 0.20\n"
     ]
    }
   ],
   "source": [
    "# Number of favorable outcomes (perfect square numbers)\n",
    "favorable_outcomes = 4\n",
    "\n",
    "# Total number of possible outcomes (total slips of paper)\n",
    "total_outcomes = 20\n",
    "\n",
    "# Calculate the probability\n",
    "probability = favorable_outcomes / total_outcomes\n",
    "\n",
    "# Print the result\n",
    "print(\"The probability of drawing a perfect square number is {:.2f}\".format(probability))\n"
   ]
  },
  {
   "cell_type": "code",
   "execution_count": null,
   "metadata": {},
   "outputs": [],
   "source": []
  }
 ],
 "metadata": {
  "kernelspec": {
   "display_name": "Python 3",
   "language": "python",
   "name": "python3"
  },
  "language_info": {
   "codemirror_mode": {
    "name": "ipython",
    "version": 3
   },
   "file_extension": ".py",
   "mimetype": "text/x-python",
   "name": "python",
   "nbconvert_exporter": "python",
   "pygments_lexer": "ipython3",
   "version": "3.10.11"
  },
  "orig_nbformat": 4
 },
 "nbformat": 4,
 "nbformat_minor": 2
}
