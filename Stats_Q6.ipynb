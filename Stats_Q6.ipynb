{
 "cells": [
  {
   "attachments": {},
   "cell_type": "markdown",
   "metadata": {},
   "source": [
    "Q-6. A pharmaceutical company is developing a drug that is supposed to reduce blood\n",
    "pressure. They conduct a clinical trial with 100 patients and record their blood\n",
    "pressure before and after taking the drug. The company wants to know if the change\n",
    "in blood pressure follows a normal distribution"
   ]
  },
  {
   "cell_type": "code",
   "execution_count": 6,
   "metadata": {},
   "outputs": [
    {
     "name": "stdout",
     "output_type": "stream",
     "text": [
      "Blood Pressure Before:\n",
      "Mean: 133.91\n",
      "Standard Deviation: 6.57\n",
      "Shapiro-Wilk p-value: 0.0026\n",
      "\n",
      "Blood Pressure After:\n",
      "Mean: 128.36\n",
      "Standard Deviation: 6.85\n",
      "Shapiro-Wilk p-value: 0.0002\n"
     ]
    }
   ],
   "source": [
    "import pandas as pd\n",
    "import numpy as np\n",
    "from scipy import stats\n",
    "\n",
    "# Read the data from the CSV file and remove leading spaces from column names\n",
    "data = pd.read_csv('Stat_Q6.csv', skipinitialspace=True)\n",
    "\n",
    "# Calculate mean and standard deviation\n",
    "mean_before = np.mean(data['Blood Pressure Before (mmHg)'])\n",
    "mean_after = np.mean(data['Blood Pressure After (mmHg)'])\n",
    "std_before = np.std(data['Blood Pressure Before (mmHg)'])\n",
    "std_after = np.std(data['Blood Pressure After (mmHg)'])\n",
    "\n",
    "# Perform Shapiro-Wilk normality test\n",
    "_, pvalue_before = stats.shapiro(data['Blood Pressure Before (mmHg)'])\n",
    "_, pvalue_after = stats.shapiro(data['Blood Pressure After (mmHg)'])\n",
    "\n",
    "# Print the results\n",
    "print(\"Blood Pressure Before:\")\n",
    "print(\"Mean: {:.2f}\".format(mean_before))\n",
    "print(\"Standard Deviation: {:.2f}\".format(std_before))\n",
    "print(\"Shapiro-Wilk p-value: {:.4f}\".format(pvalue_before))\n",
    "print()\n",
    "print(\"Blood Pressure After:\")\n",
    "print(\"Mean: {:.2f}\".format(mean_after))\n",
    "print(\"Standard Deviation: {:.2f}\".format(std_after))\n",
    "print(\"Shapiro-Wilk p-value: {:.4f}\".format(pvalue_after))\n"
   ]
  },
  {
   "cell_type": "code",
   "execution_count": null,
   "metadata": {},
   "outputs": [],
   "source": []
  }
 ],
 "metadata": {
  "kernelspec": {
   "display_name": "Python 3",
   "language": "python",
   "name": "python3"
  },
  "language_info": {
   "codemirror_mode": {
    "name": "ipython",
    "version": 3
   },
   "file_extension": ".py",
   "mimetype": "text/x-python",
   "name": "python",
   "nbconvert_exporter": "python",
   "pygments_lexer": "ipython3",
   "version": "3.10.11"
  },
  "orig_nbformat": 4
 },
 "nbformat": 4,
 "nbformat_minor": 2
}
