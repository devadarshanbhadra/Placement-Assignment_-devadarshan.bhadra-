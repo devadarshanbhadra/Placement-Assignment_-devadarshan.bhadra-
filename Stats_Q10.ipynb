{
 "cells": [
  {
   "cell_type": "code",
   "execution_count": 11,
   "metadata": {},
   "outputs": [
    {
     "name": "stdout",
     "output_type": "stream",
     "text": [
      "Index(['Patient ID', 'Blood Pressure Before (mmHg)',\n",
      "       'Blood Pressure After (mmHg)'],\n",
      "      dtype='object')\n",
      "The distribution of the classes is not the same. There is a statistically significant difference.\n"
     ]
    }
   ],
   "source": [
    "import pandas as pd\n",
    "from scipy.stats import kruskal, levene, f_oneway\n",
    "\n",
    "# Read the data from the CSV file\n",
    "data = pd.read_csv('Q10_Data.csv')\n",
    "\n",
    "data.columns = data.columns.str.strip()\n",
    "print(data.columns)\n",
    "\n",
    "# Define the significance level (alpha)\n",
    "alpha = 0.05\n",
    "\n",
    "# Perform Kruskal-Wallis test\n",
    "h_statistic, p_value = kruskal(data['Blood Pressure Before (mmHg)'], data['Blood Pressure After (mmHg)'])\n",
    "\n",
    "if p_value < alpha:\n",
    "    print(\"The distribution of the classes is not the same. There is a statistically significant difference.\")\n",
    "else:\n",
    "    print(\"The distribution of the classes is the same. There is no statistically significant difference.\")"
   ]
  },
  {
   "attachments": {},
   "cell_type": "markdown",
   "metadata": {},
   "source": [
    "#### a. Perform Kruskal-Wallis test\n",
    "\n",
    "To check whether the distribution of all the classes is the same or not, we can use a statistical test such as the Kruskal-Wallis test. The Kruskal-Wallis test is a non-parametric test that compares the distributions of multiple groups."
   ]
  },
  {
   "cell_type": "code",
   "execution_count": 12,
   "metadata": {},
   "outputs": [
    {
     "name": "stdout",
     "output_type": "stream",
     "text": [
      "The distribution of the classes is not the same. There is a statistically significant difference.\n"
     ]
    }
   ],
   "source": [
    "\n",
    "h_statistic, p_value = kruskal(data['Blood Pressure Before (mmHg)'], data['Blood Pressure After (mmHg)'])\n",
    "if p_value < alpha:\n",
    "    print(\"The distribution of the classes is not the same. There is a statistically significant difference.\")\n",
    "else:\n",
    "    print(\"The distribution of the classes is the same. There is no statistically significant difference.\")\n",
    "\n"
   ]
  },
  {
   "attachments": {},
   "cell_type": "markdown",
   "metadata": {},
   "source": [
    "#### # b. Perform Levene's test\n",
    "\n",
    "To check for the equality of variance between the classes, we can use a statistical test such as Levene's test. Levene's test is used to assess the equality of variances among multiple groups."
   ]
  },
  {
   "cell_type": "code",
   "execution_count": 13,
   "metadata": {},
   "outputs": [
    {
     "name": "stdout",
     "output_type": "stream",
     "text": [
      "The variances between the classes are equal. There is no statistically significant difference.\n"
     ]
    }
   ],
   "source": [
    "\n",
    "statistic, p_value = levene(data['Blood Pressure Before (mmHg)'], data['Blood Pressure After (mmHg)'])\n",
    "if p_value < alpha:\n",
    "    print(\"The variances between the classes are not equal. There is a statistically significant difference.\")\n",
    "else:\n",
    "    print(\"The variances between the classes are equal. There is no statistically significant difference.\")\n",
    "\n"
   ]
  },
  {
   "attachments": {},
   "cell_type": "markdown",
   "metadata": {},
   "source": [
    "#### c. Decision between LDA and QDA can be made based on assumptions and characteristics of the data (as explained in the previous response).\n",
    "\n",
    "\n",
    " To determine whether Linear Discriminant Analysis (LDA) or Quadratic Discriminant Analysis (QDA) would perform better on this data for classification, we need to consider the assumptions and characteristics of each method.\n",
    "\n",
    "LDA assumes that the classes have equal covariance matrices and that the predictors are normally distributed within each class. LDA works well when the assumptions are met, and it can provide good results when the classes are well-separated and the predictors are correlated.\n",
    "\n",
    "QDA, on the other hand, relaxes the assumption of equal covariance matrices and allows each class to have its own covariance matrix. QDA is more flexible and can capture more complex relationships between predictors and classes. However, it requires more data and can be prone to overfitting when the number of predictors is large compared to the number of observations.\n",
    "\n",
    "Therefore, the choice between LDA and QDA depends on the characteristics of the data and the specific problem at hand. If the classes have similar covariance matrices and the predictors are normally distributed, LDA may be a good choice. If there is evidence of unequal covariance matrices or nonlinear relationships, QDA may be more appropriate."
   ]
  },
  {
   "attachments": {},
   "cell_type": "markdown",
   "metadata": {},
   "source": [
    "#### d. Perform one-way ANOVA\n",
    "\n",
    "To check the equality of mean between all the classes, we can use a statistical test such as one-way ANOVA. One-way ANOVA compares the means of multiple groups to determine if there are any statistically significant differences."
   ]
  },
  {
   "cell_type": "code",
   "execution_count": 14,
   "metadata": {},
   "outputs": [
    {
     "name": "stdout",
     "output_type": "stream",
     "text": [
      "The means between the classes are not equal. There is a statistically significant difference.\n"
     ]
    }
   ],
   "source": [
    "\n",
    "f_statistic, p_value = f_oneway(data['Blood Pressure Before (mmHg)'], data['Blood Pressure After (mmHg)'])\n",
    "if p_value < alpha:\n",
    "    print(\"The means between the classes are not equal. There is a statistically significant difference.\")\n",
    "else:\n",
    "    print(\"The means between the classes are equal. There is no statistically significant difference.\")\n"
   ]
  },
  {
   "cell_type": "code",
   "execution_count": null,
   "metadata": {},
   "outputs": [],
   "source": []
  }
 ],
 "metadata": {
  "kernelspec": {
   "display_name": "Python 3",
   "language": "python",
   "name": "python3"
  },
  "language_info": {
   "codemirror_mode": {
    "name": "ipython",
    "version": 3
   },
   "file_extension": ".py",
   "mimetype": "text/x-python",
   "name": "python",
   "nbconvert_exporter": "python",
   "pygments_lexer": "ipython3",
   "version": "3.10.11"
  },
  "orig_nbformat": 4
 },
 "nbformat": 4,
 "nbformat_minor": 2
}
